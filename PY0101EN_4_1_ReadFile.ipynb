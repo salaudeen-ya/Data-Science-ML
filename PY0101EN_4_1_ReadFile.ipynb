{
  "nbformat": 4,
  "nbformat_minor": 0,
  "metadata": {
    "kernelspec": {
      "display_name": "Python 3",
      "language": "python",
      "name": "python3"
    },
    "language_info": {
      "codemirror_mode": {
        "name": "ipython",
        "version": 3
      },
      "file_extension": ".py",
      "mimetype": "text/x-python",
      "name": "python",
      "nbconvert_exporter": "python",
      "pygments_lexer": "ipython3",
      "version": "3.7.6"
    },
    "colab": {
      "name": "PY0101EN-4-1-ReadFile.ipynb",
      "provenance": [],
      "include_colab_link": true
    }
  },
  "cells": [
    {
      "cell_type": "markdown",
      "metadata": {
        "id": "view-in-github",
        "colab_type": "text"
      },
      "source": [
        "<a href=\"https://colab.research.google.com/github/salaudeen-ya/Data-Science-ML/blob/master/PY0101EN_4_1_ReadFile.ipynb\" target=\"_parent\"><img src=\"https://colab.research.google.com/assets/colab-badge.svg\" alt=\"Open In Colab\"/></a>"
      ]
    },
    {
      "cell_type": "markdown",
      "metadata": {
        "id": "x_CYxwrPVUto"
      },
      "source": [
        "<center>\n",
        "    <img src=\"https://cf-courses-data.s3.us.cloud-object-storage.appdomain.cloud/IBMDeveloperSkillsNetwork-PY0101EN-SkillsNetwork/IDSNlogo.png\" width=\"300\" alt=\"cognitiveclass.ai logo\"  />\n",
        "</center>\n",
        "\n",
        "# Reading Files Python\n",
        "\n",
        "Estimated time needed: **40** minutes\n",
        "\n",
        "## Objectives\n",
        "\n",
        "After completing this lab you will be able to:\n",
        "\n",
        "*   Read text files using Python libraries\n"
      ]
    },
    {
      "cell_type": "markdown",
      "metadata": {
        "id": "v28tXD31VUts"
      },
      "source": [
        "<h2>Table of Contents</h2>\n",
        "<div class=\"alert alert-block alert-info\" style=\"margin-top: 20px\">\n",
        "    <ul>\n",
        "        <li><a href=\"https://download/?utm_medium=Exinfluencer&utm_source=Exinfluencer&utm_content=000026UJ&utm_term=10006555&utm_id=NA-SkillsNetwork-Channel-SkillsNetworkCoursesIBMDeveloperSkillsNetworkPY0101ENSkillsNetwork19487395-2021-01-01\">Download Data</a></li>\n",
        "        <li><a href=\"https://read/?utm_medium=Exinfluencer&utm_source=Exinfluencer&utm_content=000026UJ&utm_term=10006555&utm_id=NA-SkillsNetwork-Channel-SkillsNetworkCoursesIBMDeveloperSkillsNetworkPY0101ENSkillsNetwork19487395-2021-01-01\">Reading Text Files</a></li>\n",
        "        <li><a href=\"https://better/?utm_medium=Exinfluencer&utm_source=Exinfluencer&utm_content=000026UJ&utm_term=10006555&utm_id=NA-SkillsNetwork-Channel-SkillsNetworkCoursesIBMDeveloperSkillsNetworkPY0101ENSkillsNetwork19487395-2021-01-01\">A Better Way to Open a File</a></li>\n",
        "    </ul>\n",
        "\n",
        "</div>\n",
        "\n",
        "<hr>\n"
      ]
    },
    {
      "cell_type": "markdown",
      "metadata": {
        "id": "iObmVadiVUts"
      },
      "source": [
        "<h2 id=\"download\">Download Data</h2>\n"
      ]
    },
    {
      "cell_type": "code",
      "metadata": {
        "id": "X16kLr4mVUtt"
      },
      "source": [
        "import urllib.request\n",
        "url = 'https://cf-courses-data.s3.us.cloud-object-storage.appdomain.cloud/IBMDeveloperSkillsNetwork-PY0101EN-SkillsNetwork/labs/Module%204/data/example1.txt'\n",
        "filename = 'Example1.txt'\n",
        "urllib.request.urlretrieve(url, filename)"
      ],
      "execution_count": null,
      "outputs": []
    },
    {
      "cell_type": "code",
      "metadata": {
        "id": "o3AnAjs1VUtu"
      },
      "source": [
        "# Download Example file\n",
        "\n",
        "\n",
        "!wget -O /resources/data/Example1.txt https://cf-courses-data.s3.us.cloud-object-storage.appdomain.cloud/IBMDeveloperSkillsNetwork-PY0101EN-SkillsNetwork/labs/Module%204/data/example1.txt"
      ],
      "execution_count": null,
      "outputs": []
    },
    {
      "cell_type": "markdown",
      "metadata": {
        "id": "FMB5885TVUtu"
      },
      "source": [
        "<hr>\n"
      ]
    },
    {
      "cell_type": "markdown",
      "metadata": {
        "id": "19aINj9JVUtu"
      },
      "source": [
        "<h2 id=\"read\">Reading Text Files</h2>\n"
      ]
    },
    {
      "cell_type": "markdown",
      "metadata": {
        "id": "mSAv7A8SVUtv"
      },
      "source": [
        "One way to read or write a file in Python is to use the built-in <code>open</code> function. The <code>open</code> function provides a **File object** that contains the methods and attributes you need in order to read, save, and manipulate the file. In this notebook, we will only cover **.txt** files. The first parameter you need is the file path and the file name. An example is shown as follow:\n"
      ]
    },
    {
      "cell_type": "markdown",
      "metadata": {
        "id": "TIZdgLOtVUtw"
      },
      "source": [
        "<img src=\"https://cf-courses-data.s3.us.cloud-object-storage.appdomain.cloud/IBMDeveloperSkillsNetwork-PY0101EN-SkillsNetwork/labs/Module%204/images/ReadOpen.png\" width=\"500\" />\n"
      ]
    },
    {
      "cell_type": "markdown",
      "metadata": {
        "id": "8stp3dmVVUtw"
      },
      "source": [
        "The mode argument is optional and the default value is **r**. In this notebook we only cover two modes:\n",
        "\n",
        "<ul>\n",
        "    <li>**r**: Read mode for reading files </li>\n",
        "    <li>**w**: Write mode for writing files</li>\n",
        "</ul>\n"
      ]
    },
    {
      "cell_type": "markdown",
      "metadata": {
        "id": "vyhcT6OaVUtx"
      },
      "source": [
        "For the next example, we will use the text file **Example1.txt**. The file is shown as follows:\n"
      ]
    },
    {
      "cell_type": "markdown",
      "metadata": {
        "id": "QdhEoC_SVUtx"
      },
      "source": [
        "<img src=\"https://cf-courses-data.s3.us.cloud-object-storage.appdomain.cloud/IBMDeveloperSkillsNetwork-PY0101EN-SkillsNetwork/labs/Module%204/images/ReadFile.png\" width=\"100\" />\n"
      ]
    },
    {
      "cell_type": "markdown",
      "metadata": {
        "id": "bsSZsyvbVUtx"
      },
      "source": [
        "We read the file:\n"
      ]
    },
    {
      "cell_type": "code",
      "metadata": {
        "id": "CLaCeoWJVUtx"
      },
      "source": [
        "# Read the Example1.txt\n",
        "\n",
        "example1 = \"Example1.txt\"\n",
        "file1 = open(example1, \"r\")"
      ],
      "execution_count": null,
      "outputs": []
    },
    {
      "cell_type": "markdown",
      "metadata": {
        "id": "gc-XltuIVUty"
      },
      "source": [
        "We can view the attributes of the file.\n"
      ]
    },
    {
      "cell_type": "markdown",
      "metadata": {
        "id": "tmzxgHo9VUty"
      },
      "source": [
        "The name of the file:\n"
      ]
    },
    {
      "cell_type": "code",
      "metadata": {
        "id": "47Mq59FQVUty"
      },
      "source": [
        "# Print the path of file\n",
        "\n",
        "file1.name"
      ],
      "execution_count": null,
      "outputs": []
    },
    {
      "cell_type": "markdown",
      "metadata": {
        "id": "QRukoBKnVUty"
      },
      "source": [
        "The mode the file object is in:\n"
      ]
    },
    {
      "cell_type": "code",
      "metadata": {
        "id": "9egfe93wVUty"
      },
      "source": [
        "# Print the mode of file, either 'r' or 'w'\n",
        "\n",
        "file1.mode"
      ],
      "execution_count": null,
      "outputs": []
    },
    {
      "cell_type": "markdown",
      "metadata": {
        "id": "V22eSDjBVUtz"
      },
      "source": [
        "We can read the file and assign it to a variable :\n"
      ]
    },
    {
      "cell_type": "code",
      "metadata": {
        "id": "wo2e16r2VUtz"
      },
      "source": [
        "# Read the file\n",
        "\n",
        "FileContent = file1.read()\n",
        "FileContent"
      ],
      "execution_count": null,
      "outputs": []
    },
    {
      "cell_type": "markdown",
      "metadata": {
        "id": "wAkU6wUAVUtz"
      },
      "source": [
        "The **/n** means that there is a new line.\n"
      ]
    },
    {
      "cell_type": "markdown",
      "metadata": {
        "id": "olyBSVVdVUtz"
      },
      "source": [
        "We can print the file:\n"
      ]
    },
    {
      "cell_type": "code",
      "metadata": {
        "id": "Q_V8nUv4VUtz"
      },
      "source": [
        "# Print the file with '\\n' as a new line\n",
        "\n",
        "print(FileContent)"
      ],
      "execution_count": null,
      "outputs": []
    },
    {
      "cell_type": "markdown",
      "metadata": {
        "id": "NtHQ3wrUVUtz"
      },
      "source": [
        "The file is of type string:\n"
      ]
    },
    {
      "cell_type": "code",
      "metadata": {
        "id": "mYMMBTGtVUt0"
      },
      "source": [
        "# Type of file content\n",
        "\n",
        "type(FileContent)"
      ],
      "execution_count": null,
      "outputs": []
    },
    {
      "cell_type": "markdown",
      "metadata": {
        "id": "I0JtPntsVUt0"
      },
      "source": [
        "It is very important that the file is closed in the end. This frees up resources and ensures consistency across different python versions.\n"
      ]
    },
    {
      "cell_type": "code",
      "metadata": {
        "id": "PVpWMLg3VUt0"
      },
      "source": [
        "# Close file after finish\n",
        "\n",
        "file1.close()"
      ],
      "execution_count": null,
      "outputs": []
    },
    {
      "cell_type": "markdown",
      "metadata": {
        "id": "10IoacSAVUt0"
      },
      "source": [
        "<hr>\n"
      ]
    },
    {
      "cell_type": "markdown",
      "metadata": {
        "id": "jE4Wd92PVUt0"
      },
      "source": [
        "<h2 id=\"better\">A Better Way to Open a File</h2>\n"
      ]
    },
    {
      "cell_type": "markdown",
      "metadata": {
        "id": "FFbgfEy6VUt0"
      },
      "source": [
        "Using the <code>with</code> statement is better practice, it automatically closes the file even if the code encounters an exception. The code will run everything in the indent block then close the file object.\n"
      ]
    },
    {
      "cell_type": "code",
      "metadata": {
        "id": "rr-cSkEFVUt0"
      },
      "source": [
        "# Open file using with\n",
        "\n",
        "with open(example1, \"r\") as file1:\n",
        "    FileContent = file1.read()\n",
        "    print(FileContent)"
      ],
      "execution_count": null,
      "outputs": []
    },
    {
      "cell_type": "markdown",
      "metadata": {
        "id": "sAsO22xsVUt0"
      },
      "source": [
        "The file object is closed, you can verify it by running the following cell:\n"
      ]
    },
    {
      "cell_type": "code",
      "metadata": {
        "id": "45W43KWWVUt1"
      },
      "source": [
        "# Verify if the file is closed\n",
        "\n",
        "file1.closed"
      ],
      "execution_count": null,
      "outputs": []
    },
    {
      "cell_type": "markdown",
      "metadata": {
        "id": "RdmlxtzTVUt1"
      },
      "source": [
        "We can see the info in the file:\n"
      ]
    },
    {
      "cell_type": "code",
      "metadata": {
        "id": "95qWQI8UVUt1"
      },
      "source": [
        "# See the content of file\n",
        "\n",
        "print(FileContent)"
      ],
      "execution_count": null,
      "outputs": []
    },
    {
      "cell_type": "markdown",
      "metadata": {
        "id": "ypBC9dS9VUt1"
      },
      "source": [
        "The syntax is a little confusing as the file object is after the <code>as</code> statement. We also don’t explicitly close the file. Therefore we summarize the steps in a figure:\n"
      ]
    },
    {
      "cell_type": "markdown",
      "metadata": {
        "id": "4hDVTjg0VUt1"
      },
      "source": [
        "<img src=\"https://cf-courses-data.s3.us.cloud-object-storage.appdomain.cloud/IBMDeveloperSkillsNetwork-PY0101EN-SkillsNetwork/labs/Module%204/images/ReadWith.png\" width=\"500\" />\n"
      ]
    },
    {
      "cell_type": "markdown",
      "metadata": {
        "id": "tWGNmGvUVUt1"
      },
      "source": [
        "We don’t have to read the entire file, for example, we can read the first 4 characters by entering three as a parameter to the method **.read()**:\n"
      ]
    },
    {
      "cell_type": "code",
      "metadata": {
        "id": "VT50TBeHVUt2"
      },
      "source": [
        "# Read first four characters\n",
        "\n",
        "with open(example1, \"r\") as file1:\n",
        "    print(file1.read(4))"
      ],
      "execution_count": null,
      "outputs": []
    },
    {
      "cell_type": "markdown",
      "metadata": {
        "id": "WXk7D9ZcVUt2"
      },
      "source": [
        "Once the method <code>.read(4)</code> is called the first 4 characters are called. If we call the method again, the next 4 characters are called. The output for the following cell will demonstrate the process for different inputs to the method <code>read()</code>:\n"
      ]
    },
    {
      "cell_type": "code",
      "metadata": {
        "id": "7dr70l30VUt2"
      },
      "source": [
        "# Read certain amount of characters\n",
        "\n",
        "with open(example1, \"r\") as file1:\n",
        "    print(file1.read(4))\n",
        "    print(file1.read(4))\n",
        "    print(file1.read(7))\n",
        "    print(file1.read(15))"
      ],
      "execution_count": null,
      "outputs": []
    },
    {
      "cell_type": "markdown",
      "metadata": {
        "id": "r6-NrNnbVUt2"
      },
      "source": [
        "The process is illustrated in the below figure, and each color represents the part of the file read after the method <code>read()</code> is called:\n"
      ]
    },
    {
      "cell_type": "markdown",
      "metadata": {
        "id": "Zwp_VPllVUt2"
      },
      "source": [
        "<img src=\"https://cf-courses-data.s3.us.cloud-object-storage.appdomain.cloud/IBMDeveloperSkillsNetwork-PY0101EN-SkillsNetwork/labs/Module%204/images/read.png\" width=\"500\" />\n"
      ]
    },
    {
      "cell_type": "markdown",
      "metadata": {
        "id": "mDSpulaOVUt3"
      },
      "source": [
        "Here is an example using the same file, but instead we read 16, 5, and then 9 characters at a time:\n"
      ]
    },
    {
      "cell_type": "code",
      "metadata": {
        "id": "P2KDYuYaVUt3"
      },
      "source": [
        "# Read certain amount of characters\n",
        "\n",
        "with open(example1, \"r\") as file1:\n",
        "    print(file1.read(16))\n",
        "    print(file1.read(5))\n",
        "    print(file1.read(9))"
      ],
      "execution_count": null,
      "outputs": []
    },
    {
      "cell_type": "markdown",
      "metadata": {
        "id": "NQCTstsUVUt3"
      },
      "source": [
        "We can also read one line of the file at a time using the method <code>readline()</code>:\n"
      ]
    },
    {
      "cell_type": "code",
      "metadata": {
        "id": "EamPfv3DVUt3"
      },
      "source": [
        "# Read one line\n",
        "\n",
        "with open(example1, \"r\") as file1:\n",
        "    print(\"first line: \" + file1.readline())"
      ],
      "execution_count": null,
      "outputs": []
    },
    {
      "cell_type": "markdown",
      "metadata": {
        "id": "uxoCDTnDVUt3"
      },
      "source": [
        "We can also pass an argument to <code> readline() </code> to specify the number of charecters we want to read. However, unlike <code> read()</code>, <code> readline()</code> can only read one line at most.\n"
      ]
    },
    {
      "cell_type": "code",
      "metadata": {
        "id": "bL6YFeeDVUt3"
      },
      "source": [
        "with open(example1, \"r\") as file1:\n",
        "    print(file1.readline(20)) # does not read past the end of line\n",
        "    print(file1.read(20)) # Returns the next 20 chars\n"
      ],
      "execution_count": null,
      "outputs": []
    },
    {
      "cell_type": "markdown",
      "metadata": {
        "id": "zV6noaWPVUt3"
      },
      "source": [
        "We can use a loop to iterate through each line:\n"
      ]
    },
    {
      "cell_type": "code",
      "metadata": {
        "id": "kMfd9bowVUt4"
      },
      "source": [
        "# Iterate through the lines\n",
        "\n",
        "with open(example1,\"r\") as file1:\n",
        "        i = 0;\n",
        "        for line in file1:\n",
        "            print(\"Iteration\", str(i), \": \", line)\n",
        "            i = i + 1"
      ],
      "execution_count": null,
      "outputs": []
    },
    {
      "cell_type": "markdown",
      "metadata": {
        "id": "nCgBznJGVUt4"
      },
      "source": [
        "We can use the method <code>readlines()</code> to save the text file to a list:\n"
      ]
    },
    {
      "cell_type": "code",
      "metadata": {
        "id": "R8_ns2R7VUt4"
      },
      "source": [
        "# Read all lines and save as a list\n",
        "\n",
        "with open(example1, \"r\") as file1:\n",
        "    FileasList = file1.readlines()"
      ],
      "execution_count": null,
      "outputs": []
    },
    {
      "cell_type": "markdown",
      "metadata": {
        "id": "2Wk51DB4VUt4"
      },
      "source": [
        "Each element of the list corresponds to a line of text:\n"
      ]
    },
    {
      "cell_type": "code",
      "metadata": {
        "id": "kuyGsCjwVUt4"
      },
      "source": [
        "# Print the first line\n",
        "\n",
        "FileasList[0]"
      ],
      "execution_count": null,
      "outputs": []
    },
    {
      "cell_type": "markdown",
      "metadata": {
        "id": "9igLPWGUVUt4"
      },
      "source": [
        "# Print the second line\n",
        "\n",
        "FileasList\\[1]\n"
      ]
    },
    {
      "cell_type": "code",
      "metadata": {
        "id": "RW0OdX2TVUt4"
      },
      "source": [
        "# Print the third line\n",
        "\n",
        "FileasList[2]"
      ],
      "execution_count": null,
      "outputs": []
    },
    {
      "cell_type": "markdown",
      "metadata": {
        "id": "XbTpDT0yVUt4"
      },
      "source": [
        "<hr>\n",
        "<h2>The last exercise!</h2>\n",
        "<p>Congratulations, you have completed your first lesson and hands-on lab in Python. However, there is one more thing you need to do. The Data Science community encourages sharing work. The best way to share and showcase your work is to share it on GitHub. By sharing your notebook on GitHub you are not only building your reputation with fellow data scientists, but you can also show it off when applying for a job. Even though this was your first piece of work, it is never too early to start building good habits. So, please read and follow <a href=\"https://cognitiveclass.ai/blog/data-scientists-stand-out-by-sharing-your-notebooks/?utm_medium=Exinfluencer&utm_source=Exinfluencer&utm_content=000026UJ&utm_term=10006555&utm_id=NA-SkillsNetwork-Channel-SkillsNetworkCoursesIBMDeveloperSkillsNetworkPY0101ENSkillsNetwork19487395-2021-01-01\" target=\"_blank\">this article</a> to learn how to share your work.\n",
        "<hr>\n"
      ]
    },
    {
      "cell_type": "markdown",
      "metadata": {
        "id": "cGRfZdF3VUt4"
      },
      "source": [
        "## Author\n",
        "\n",
        "<a href=\"https://www.linkedin.com/in/joseph-s-50398b136/?utm_medium=Exinfluencer&utm_source=Exinfluencer&utm_content=000026UJ&utm_term=10006555&utm_id=NA-SkillsNetwork-Channel-SkillsNetworkCoursesIBMDeveloperSkillsNetworkPY0101ENSkillsNetwork19487395-2021-01-01\" target=\"_blank\">Joseph Santarcangelo</a>\n",
        "\n",
        "## Other contributors\n",
        "\n",
        "<a href=\"https://www.linkedin.com/in/jiahui-mavis-zhou-a4537814a?utm_medium=Exinfluencer&utm_source=Exinfluencer&utm_content=000026UJ&utm_term=10006555&utm_id=NA-SkillsNetwork-Channel-SkillsNetworkCoursesIBMDeveloperSkillsNetworkPY0101ENSkillsNetwork19487395-2021-01-01\">Mavis Zhou</a>\n",
        "\n",
        "## Change Log\n",
        "\n",
        "| Date (YYYY-MM-DD) | Version | Changed By    | Change Description                                        |\n",
        "| ----------------- | ------- | ------------- | --------------------------------------------------------- |\n",
        "| 2020-09-30        | 1.3     | Malika        | Deleted exericse \"Weather Data\"                           |\n",
        "| 2020-09-30        | 1.2     | Malika Singla | Weather Data dataset link added                           |\n",
        "| 2020-09-30        | 1.1     | Arjun Swani   | Added exericse \"Weather Data\"                             |\n",
        "| 2020-09-30        | 1.0     | Arjun Swani   | Added blurbs about closing files and read() vs readline() |\n",
        "| 2020-08-26        | 0.2     | Lavanya       | Moved lab to course repo in GitLab                        |\n",
        "|                   |         |               |                                                           |\n",
        "|                   |         |               |                                                           |\n",
        "\n",
        "<hr/>\n",
        "\n",
        "## <h3 align=\"center\"> © IBM Corporation 2020. All rights reserved. <h3/>\n"
      ]
    }
  ]
}