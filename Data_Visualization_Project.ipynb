{
  "nbformat": 4,
  "nbformat_minor": 0,
  "metadata": {
    "colab": {
      "name": "Data_Visualization Project.ipynb",
      "provenance": [],
      "authorship_tag": "ABX9TyPNnbk56oxgyKlT94cScFJA",
     
    },
    "kernelspec": {
      "name": "python3",
      "display_name": "Python 3"
    },
    "language_info": {
      "name": "python"
    }
  },
  "cells": [
    {
      "cell_type": "markdown",
      "metadata": {
        "id": "view-in-github",
        "colab_type": "text"
      },
      "source": [
        "<a href=\"https://colab.research.google.com/github/salaudeen-ya/hello-world/blob/master/Data_Visualization_Project.ipynb\" target=\"_parent\"><img src=\"https://colab.research.google.com/assets/colab-badge.svg\" alt=\"Open In Colab\"/></a>"
      ]
    },
    {
      "cell_type": "code",
      "metadata": {
        "id": "cR09rbu9NPKa"
      },
      "source": [
        "import pandas as pd\n",
        "import numpy as np\n",
        "import matplotlib.pyplot as plt\n",
        "import seaborn as sb\n",
        "\n",
        "%matplotlib inline\n",
        "\n"
      ],
      "execution_count": null,
      "outputs": []
    },
    {
      "cell_type": "code",
      "metadata": {
        "colab": {
          "base_uri": "https://localhost:8080/",
          "height": 602
        },
        "id": "O5-kAZ5yPJwM",
        "outputId": "5103947a-0ca0-45e3-ef77-e48587bc2188"
      },
      "source": [
        "flights = pd.read_csv('/flights_data.csv')\n",
        "print(flights.shape)\n",
        "flights.head()"
      ],
      "execution_count": null,
      "outputs": [
        {
          "output_type": "stream",
          "text": [
            "(10683, 11)\n"
          ],
          "name": "stdout"
        },
        {
          "output_type": "execute_result",
          "data": {
            "text/html": [
              "<div>\n",
              "<style scoped>\n",
              "    .dataframe tbody tr th:only-of-type {\n",
              "        vertical-align: middle;\n",
              "    }\n",
              "\n",
              "    .dataframe tbody tr th {\n",
              "        vertical-align: top;\n",
              "    }\n",
              "\n",
              "    .dataframe thead th {\n",
              "        text-align: right;\n",
              "    }\n",
              "</style>\n",
              "<table border=\"1\" class=\"dataframe\">\n",
              "  <thead>\n",
              "    <tr style=\"text-align: right;\">\n",
              "      <th></th>\n",
              "      <th>Airline</th>\n",
              "      <th>Date_of_Journey</th>\n",
              "      <th>Source</th>\n",
              "      <th>Destination</th>\n",
              "      <th>Route</th>\n",
              "      <th>Dep_Time</th>\n",
              "      <th>Arrival_Time</th>\n",
              "      <th>Duration(minutes)</th>\n",
              "      <th>Total_Stops</th>\n",
              "      <th>Additional_Info</th>\n",
              "      <th>Price</th>\n",
              "    </tr>\n",
              "  </thead>\n",
              "  <tbody>\n",
              "    <tr>\n",
              "      <th>0</th>\n",
              "      <td>IndiGo</td>\n",
              "      <td>24/03/2019</td>\n",
              "      <td>Banglore</td>\n",
              "      <td>New Delhi</td>\n",
              "      <td>BLR → DEL</td>\n",
              "      <td>22:20</td>\n",
              "      <td>01:10 22 Mar</td>\n",
              "      <td>170</td>\n",
              "      <td>0</td>\n",
              "      <td>No info</td>\n",
              "      <td>3897</td>\n",
              "    </tr>\n",
              "    <tr>\n",
              "      <th>1</th>\n",
              "      <td>Air India</td>\n",
              "      <td>1/05/2019</td>\n",
              "      <td>Kolkata</td>\n",
              "      <td>Banglore</td>\n",
              "      <td>CCU → IXR → BBI → BLR</td>\n",
              "      <td>05:50</td>\n",
              "      <td>13:15</td>\n",
              "      <td>445</td>\n",
              "      <td>2</td>\n",
              "      <td>No info</td>\n",
              "      <td>7662</td>\n",
              "    </tr>\n",
              "    <tr>\n",
              "      <th>2</th>\n",
              "      <td>Jet Airways</td>\n",
              "      <td>9/06/2019</td>\n",
              "      <td>Delhi</td>\n",
              "      <td>Cochin</td>\n",
              "      <td>DEL → LKO → BOM → COK</td>\n",
              "      <td>09:25</td>\n",
              "      <td>04:25 10 Jun</td>\n",
              "      <td>1140</td>\n",
              "      <td>2</td>\n",
              "      <td>No info</td>\n",
              "      <td>13882</td>\n",
              "    </tr>\n",
              "    <tr>\n",
              "      <th>3</th>\n",
              "      <td>IndiGo</td>\n",
              "      <td>12/05/2019</td>\n",
              "      <td>Kolkata</td>\n",
              "      <td>Banglore</td>\n",
              "      <td>CCU → NAG → BLR</td>\n",
              "      <td>18:05</td>\n",
              "      <td>23:30</td>\n",
              "      <td>325</td>\n",
              "      <td>1</td>\n",
              "      <td>No info</td>\n",
              "      <td>6218</td>\n",
              "    </tr>\n",
              "    <tr>\n",
              "      <th>4</th>\n",
              "      <td>IndiGo</td>\n",
              "      <td>01/03/2019</td>\n",
              "      <td>Banglore</td>\n",
              "      <td>New Delhi</td>\n",
              "      <td>BLR → NAG → DEL</td>\n",
              "      <td>16:50</td>\n",
              "      <td>21:35</td>\n",
              "      <td>285</td>\n",
              "      <td>1</td>\n",
              "      <td>No info</td>\n",
              "      <td>13302</td>\n",
              "    </tr>\n",
              "  </tbody>\n",
              "</table>\n",
              "</div>"
            ],
            "text/plain": [
              "       Airline Date_of_Journey    Source  ... Total_Stops Additional_Info  Price\n",
              "0       IndiGo      24/03/2019  Banglore  ...           0         No info   3897\n",
              "1    Air India       1/05/2019   Kolkata  ...           2         No info   7662\n",
              "2  Jet Airways       9/06/2019     Delhi  ...           2         No info  13882\n",
              "3       IndiGo      12/05/2019   Kolkata  ...           1         No info   6218\n",
              "4       IndiGo      01/03/2019  Banglore  ...           1         No info  13302\n",
              "\n",
              "[5 rows x 11 columns]"
            ]
          },
          "metadata": {
            "tags": []
          },
          "execution_count": 3
        }
      ]
    },
    {
      "cell_type": "code",
      "metadata": {
        "colab": {
          "base_uri": "https://localhost:8080/",
          "height": 299
        },
        "id": "Rn8LcOUhPPU7",
        "outputId": "279d084b-614a-4cb7-dea5-bcad2eb98c82"
      },
      "source": [
        "sb.countplot(data = flights, x = 'Source')\n",
        "#plt.xtricks(rotation = 30)\n",
        "plt.ylabel('Number of Flights', fontsize = 12)\n",
        "plt.xlabel('Source', fontsize = 12)"
      ],
      "execution_count": null,
      "outputs": [
        {
          "output_type": "execute_result",
          "data": {
            "text/plain": [
              "Text(0.5, 0, 'Source')"
            ]
          },
          "metadata": {
            "tags": []
          },
          "execution_count": 4
        },
        {
          "output_type": "display_data",
          "data": {
            "image/png": "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\n",
            "text/plain": [
              "<Figure size 432x288 with 1 Axes>"
            ]
          },
          "metadata": {
            "tags": [],
            "needs_background": "light"
          }
        }
      ]
    },
    {
      "cell_type": "code",
      "metadata": {
        "colab": {
          "base_uri": "https://localhost:8080/",
          "height": 296
        },
        "id": "s31EeduzPlAI",
        "outputId": "a84b6c28-1703-463b-df16-3179573a1ca0"
      },
      "source": [
        "base_color = sb.color_palette()[1]\n",
        "gen_order = flights['Source'].value_counts().index\n",
        "sb.countplot(data = flights, x = 'Source', color = base_color, order = gen_order)"
      ],
      "execution_count": null,
      "outputs": [
        {
          "output_type": "execute_result",
          "data": {
            "text/plain": [
              "<matplotlib.axes._subplots.AxesSubplot at 0x7f7efbea5450>"
            ]
          },
          "metadata": {
            "tags": []
          },
          "execution_count": 5
        },
        {
          "output_type": "display_data",
          "data": {
            "image/png": "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\n",
            "text/plain": [
              "<Figure size 432x288 with 1 Axes>"
            ]
          },
          "metadata": {
            "tags": [],
            "needs_background": "light"
          }
        }
      ]
    },
    {
      "cell_type": "code",
      "metadata": {
        "colab": {
          "base_uri": "https://localhost:8080/",
          "height": 298
        },
        "id": "pI-QG-A5P8ac",
        "outputId": "fbdaa02d-aa00-4b38-814e-57bd0077a0eb"
      },
      "source": [
        " base_color = sb.color_palette()[2]\n",
        " sb.countplot(data = flights, x = 'Airline', color = base_color)"
      ],
      "execution_count": null,
      "outputs": [
        {
          "output_type": "execute_result",
          "data": {
            "text/plain": [
              "<matplotlib.axes._subplots.AxesSubplot at 0x7f7efb959550>"
            ]
          },
          "metadata": {
            "tags": []
          },
          "execution_count": 6
        },
        {
          "output_type": "display_data",
          "data": {
            "image/png": "iVBORw0KGgoAAAANSUhEUgAAAboAAAEICAYAAAAp9TH7AAAABHNCSVQICAgIfAhkiAAAAAlwSFlzAAALEgAACxIB0t1+/AAAADh0RVh0U29mdHdhcmUAbWF0cGxvdGxpYiB2ZXJzaW9uMy4yLjIsIGh0dHA6Ly9tYXRwbG90bGliLm9yZy+WH4yJAAAgAElEQVR4nO3de7wdVXn/8c+XcFWREDlSSIKhEERQCXgMKFIRKrdagv4QoUXCpY22YOVnvYC/tuCFqtVKEVtalCh44yJaIkYx5SYitwRCIFwkcktSLhFCAJFAkuf3x/Nssjmck5wkZ+fkDN/363VeZ8+aNTNrZtasZ9bs2TOKCMzMzJpqvcEugJmZWSc50JmZWaM50JmZWaM50JmZWaM50JmZWaM50JmZWaN1PNBJGibpFkmX1vC2km6QNEfSBZI2rPSNanhOjR/TNo+TK/1uSft3usxmZtYc66+FZXwUuBN4dQ1/CTg9Is6X9J/AccBZ9X9hRGwv6fDK9wFJOwGHAzsDWwP/I2mHiFja1wK32GKLGDNmTMdWyMysiWbMmPG7iOga7HIMtI4GOkmjgD8DTgM+JknAPsBfVJZzgVPJQDehPgP8EPh65Z8AnB8Ri4H7JM0BxgPX9bXcMWPGMH369AFfHzOzJpP0wGCXoRM6feny34BPAstq+DXAExGxpIbnASPr80hgLkCNX1T5X0jvZRozM7MV6ligk/Qe4NGImNGpZfRY3iRJ0yVNX7BgwdpYpJmZDQGd7NHtCRws6X7gfPKS5RnAcEmtS6ajgPn1eT4wGqDGbwY81p7eyzQviIizI6I7Irq7uhp3idnMzFZTxwJdRJwcEaMiYgx5M8kVEfGXwJXAoZVtInBJfZ5Sw9T4KyKfOD0FOLzuytwWGAvc2Klym5lZs6yNuy57+hRwvqTPA7cA51T6OcB36maTx8ngSETMlnQhcAewBDh+RXdcmpmZtVMTX9PT3d0dvuvSzGzVSJoREd2DXY6B5iejmJlZoznQmZlZoznQmZlZow3GzSg2gPY8c8+OzPfaj1zbkfmama1t7tGZmVmjOdCZmVmjOdCZmVmjOdCZmVmjOdCZmVmjOdCZmVmjOdCZmVmjOdCZmVmjOdCZmVmjOdCZmVmjOdCZmVmjOdCZmVmjOdCZmVmjOdCZmVmjdSzQSdpY0o2SbpU0W9JnKv3bku6TNLP+xlW6JH1N0hxJsyTt1javiZLuqb+JnSqzmZk1TyffR7cY2Ccinpa0AfArST+rcZ+IiB/2yH8gMLb+dgfOAnaXNAI4BegGApghaUpELOxg2c3MrCE61qOL9HQNblB/sYJJJgDn1XTXA8MlbQXsD0yLiMcruE0DDuhUuc3MrFk6+h2dpGGSZgKPksHqhhp1Wl2ePF3SRpU2EpjbNvm8SusrveeyJkmaLmn6ggULBnxdzMxsaOpooIuIpRExDhgFjJf0RuBkYEfgrcAI4FMDtKyzI6I7Irq7uroGYpZmZtYAa+Wuy4h4ArgSOCAiHqrLk4uBbwHjK9t8YHTbZKMqra90MzOzlerkXZddkobX502AdwN31fduSBJwCHB7TTIFOKruvtwDWBQRDwGXAftJ2lzS5sB+lWZmZrZSnbzrcivgXEnDyIB6YURcKukKSV2AgJnAhyv/VOAgYA7wDHAMQEQ8LulzwE2V77MR8XgHy21mZg3SsUAXEbOAXXtJ36eP/AEc38e4ycDkAS2gmZm9LPjJKGZm1mgOdGZm1mgOdGZm1mgOdGZm1mgOdGZm1mgOdGZm1mgOdGZm1mgOdGZm1mgOdGZm1mgOdGZm1mgOdGZm1mgOdGZm1mgOdGZm1mgOdGZm1mgOdGZm1mgOdGZm1mgOdGZm1mgOdGZm1mgdC3SSNpZ0o6RbJc2W9JlK31bSDZLmSLpA0oaVvlENz6nxY9rmdXKl3y1p/06V2czMmqeTPbrFwD4RsQswDjhA0h7Al4DTI2J7YCFwXOU/DlhY6adXPiTtBBwO7AwcAPyHpGEdLLeZmTVIxwJdpKdrcIP6C2Af4IeVfi5wSH2eUMPU+H0lqdLPj4jFEXEfMAcY36lym5lZs3T0OzpJwyTNBB4FpgG/BZ6IiCWVZR4wsj6PBOYC1PhFwGva03uZpn1ZkyRNlzR9wYIFnVgdMzMbgjoa6CJiaUSMA0aRvbAdO7issyOiOyK6u7q6OrUYMzMbYtbKXZcR8QRwJfA2YLik9WvUKGB+fZ4PjAao8ZsBj7Wn9zKNmZnZCnXyrssuScPr8ybAu4E7yYB3aGWbCFxSn6fUMDX+ioiISj+87srcFhgL3NipcpuZWbOsv/Isq20r4Ny6Q3I94MKIuFTSHcD5kj4P3AKcU/nPAb4jaQ7wOHmnJRExW9KFwB3AEuD4iFjawXKbmVmDdCzQRcQsYNde0u+ll7smI+JZ4P19zOs04LSBLqOZmTWfn4xiZmaN5kBnZmaN5kBnZmaN5kBnZmaN5kBnZmaN5kBnZmaN5kBnZmaN5kBnZmaN5kBnZmaN5kBnZmaN5kBnZmaN5kBnZmaN5kBnZmaN5kBnZmaN5kBnZmaN5kBnZmaN5kBnZmaN5kBnZmaN1rFAJ2m0pCsl3SFptqSPVvqpkuZLmll/B7VNc7KkOZLulrR/W/oBlTZH0kmdKrOZmTXP+h2c9xLg7yPiZkmbAjMkTatxp0fEV9ozS9oJOBzYGdga+B9JO9TofwfeDcwDbpI0JSLu6GDZzcysIToW6CLiIeCh+vyUpDuBkSuYZAJwfkQsBu6TNAcYX+PmRMS9AJLOr7wOdGZmtlJr5Ts6SWOAXYEbKukESbMkTZa0eaWNBOa2TTav0vpK77mMSZKmS5q+YMGCAV4DMzMbqjoe6CS9CrgYODEingTOArYDxpE9vn8diOVExNkR0R0R3V1dXQMxSzMza4BOfkeHpA3IIPe9iPgRQEQ80jb+G8ClNTgfGN02+ahKYwXpZmZmK9TJuy4FnAPcGRFfbUvfqi3be4Hb6/MU4HBJG0naFhgL3AjcBIyVtK2kDckbVqZ0qtxmZtYsnezR7Ql8ELhN0sxK+zRwhKRxQAD3Ax8CiIjZki4kbzJZAhwfEUsBJJ0AXAYMAyZHxOwOltvMzBqkk3dd/gpQL6OmrmCa04DTekmfuqLpzMzM+uIno5iZWaM50JmZWaM50JmZWaM50JmZWaM50JmZWaM50JmZWaM50JmZWaM50JmZWaM50JmZWaP1K9BJurw/aWZmZuuaFT4CTNLGwCuALeq9ca1Her2aFb9E1czMbJ2wsmddfgg4EdgamMHyQPck8PUOlsvMzGxArDDQRcQZwBmSPhIRZ66lMpmZmQ2Yfr29ICLOlPR2YEz7NBFxXofKZWZmNiD6FegkfQfYDpgJLK3kABzozMxsndbf99F1AztFRHSyMGZmZgOtv7+jux34o04WxMzMrBP626PbArhD0o3A4lZiRBzckVKZmZkNkP4GulNXdcaSRpPf4W1Jfp93dkScIWkEcAF5Y8v9wGERsVCSgDOAg4BngKMj4uaa10TgH2rWn4+Ic/tbjj3P3HNVi95v137k2o7N28zMBkZ/77q8ejXmvQT4+4i4WdKmwAxJ04Cjgcsj4ouSTgJOAj4FHAiMrb/dgbOA3SswnkJ+Txg1nykRsXA1ymRmZi8z/X0E2FOSnqy/ZyUtlfTkiqaJiIdaPbKIeAq4k3yaygSg1SM7FzikPk8Azot0PTBc0lbA/sC0iHi8gts04IBVXE8zM3uZ6m+PbtPW57rEOAHYo78LkTQG2BW4AdgyIh6qUQ+TlzYhg+DctsnmVVpf6T2XMQmYBLDNNtv0t2hmZtZwq/z2gupx/TfZ01opSa8CLgZOjIgX9QLr5woD8pOFiDg7Irojorurq2sgZmlmZg3Q3x+Mv69tcD3y+7Jn+zHdBmSQ+15E/KiSH5G0VUQ8VJcmH630+cDotslHVdp8YO8e6Vf1p9xmZmb97dH9edvf/sBT5OXLPtUlznOAOyPiq22jpgAT6/NE4JK29KOU9gAW1SXOy4D9JG1eb1DYr9LMzMxWqr/f0R2zGvPeE/ggcJukmZX2aeCLwIWSjgMeAA6rcVPJnxbMIX9ecEwt+3FJnwNuqnyfjYjHV6M8Zmb2MtTfS5ejgDPJ4AVwDfDRiJjX1zQR8SuWv9anp317yR/A8X3MazIwuT9lNTMza9ffS5ffIi8tbl1/P6k0MzOzdVp/A11XRHwrIpbU37cB39poZmbrvP4GusckHSlpWP0dCTzWyYKZmZkNhP4GumPJm0YeBh4CDiUf5WVmZrZO6+9DnT8LTGw9X7KeP/kVMgCamZmts/rbo3tz+0OU6/b+XTtTJDMzs4HT30C3Xv1YG3ihR9ff3qCZmdmg6W+w+lfgOkkX1fD7gdM6UyQzM7OB098no5wnaTqwTyW9LyLu6Fyxhq5OvejVL3k1M1s9/b78WIHNwc3MzIaUVX5Nj5mZ2VDiQGdmZo3mQGdmZo3mQGdmZo3mQGdmZo3mQGdmZo3mQGdmZo3mQGdmZo3WsUAnabKkRyXd3pZ2qqT5kmbW30Ft406WNEfS3ZL2b0s/oNLmSDqpU+U1M7Nm6mSP7tvAAb2knx4R4+pvKoCknYDDgZ1rmv9oveQV+HfgQGAn4IjKa2Zm1i8dewNBRPxS0ph+Zp8AnB8Ri4H7JM0Bxte4ORFxL4Ck8yuvH0VmZmb9Mhjf0Z0gaVZd2my9+mckMLctz7xK6yv9JSRNkjRd0vQFCxZ0otxmZjYEre1AdxawHTAOeIh8/c+AiIizI6I7Irq7uroGarZmZjbErdWXp0bEI63Pkr4BXFqD84HRbVlHVRorSDczM1uptdqjk7RV2+B7gdYdmVOAwyVtJGlbYCxwI3ATMFbStpI2JG9YmbI2y2xmZkNbx3p0kn4A7A1sIWkecAqwt6RxQAD3Ax8CiIjZki4kbzJZAhwfEUtrPicAlwHDgMkRMbtTZTYzs+bp5F2XR/SSfM4K8p8GnNZL+lRg6gAWzczMXkb8ZBQzM2s0BzozM2s0BzozM2s0BzozM2s0BzozM2s0BzozM2s0BzozM2s0BzozM2s0BzozM2s0BzozM2u0tfr2ArNVteeZe3Zkvtd+5NqOzNfM1j3u0ZmZWaM50JmZWaM50JmZWaM50JmZWaM50JmZWaM50JmZWaM50JmZWaN1LNBJmizpUUm3t6WNkDRN0j31f/NKl6SvSZojaZak3dqmmVj575E0sVPlNTOzZupkj+7bwAE90k4CLo+IscDlNQxwIDC2/iYBZ0EGRuAUYHdgPHBKKziamZn1R8cCXUT8Eni8R/IE4Nz6fC5wSFv6eZGuB4ZL2grYH5gWEY9HxEJgGi8NnmZmZn1a29/RbRkRD9Xnh4Et6/NIYG5bvnmV1lf6S0iaJGm6pOkLFiwY2FKbmdmQNWg3o0READGA8zs7Irojorurq2ugZmtmZkPc2g50j9QlSer/o5U+Hxjdlm9UpfWVbmZm1i9rO9BNAVp3Tk4ELmlLP6ruvtwDWFSXOC8D9pO0ed2Esl+lmZmZ9UvHXtMj6QfA3sAWkuaRd09+EbhQ0nHAA8BhlX0qcBAwB3gGOAYgIh6X9Dngpsr32YjoeYOLmZlZnzoW6CLiiD5G7dtL3gCO72M+k4HJA1g0MzN7GfGTUczMrNEc6MzMrNEc6MzMrNEc6MzMrNE6djOKNdOeZ+7Zkfle+5FrOzJfMzP36MzMrNEc6MzMrNEc6MzMrNEc6MzMrNEc6MzMrNEc6MzMrNEc6MzMrNEc6MzMrNEc6MzMrNEc6MzMrNEc6MzMrNEc6MzMrNEc6MzMrNEGJdBJul/SbZJmSppeaSMkTZN0T/3fvNIl6WuS5kiaJWm3wSizmZkNTYPZo3tXRIyLiO4aPgm4PCLGApfXMMCBwNj6mwSctdZLamZmQ9a6dOlyAnBufT4XOKQt/bxI1wPDJW01GAU0M7OhZ7ACXQC/kDRD0qRK2zIiHqrPDwNb1ueRwNy2aedV2otImiRpuqTpCxYs6FS5zcxsiBmsN4y/IyLmS3otME3SXe0jIyIkxarMMCLOBs4G6O7uXqVpzQaL39hu1nmD0qOLiPn1/1Hgx8B44JHWJcn6/2hlnw+Mbpt8VKWZmZmt1FoPdJJeKWnT1mdgP+B2YAowsbJNBC6pz1OAo+ruyz2ARW2XOM3MzFZoMC5dbgn8WFJr+d+PiJ9Lugm4UNJxwAPAYZV/KnAQMAd4Bjhm7RfZzMyGqrUe6CLiXmCXXtIfA/btJT2A49dC0czMrIHWpZ8XmJmZDTgHOjMzazQHOjMzazQHOjMza7TB+sG4mQ0C/0DdXo7cozMzs0ZzoDMzs0ZzoDMzs0ZzoDMzs0ZzoDMzs0bzXZdmbXxXolnzuEdnZmaN5kBnZmaN5kBnZmaN5kBnZmaN5kBnZmaN5kBnZmaNNmQCnaQDJN0taY6kkwa7PGZmNjQMiUAnaRjw78CBwE7AEZJ2GtxSmZnZUDAkAh0wHpgTEfdGxHPA+cCEQS6TmZkNAUPlySgjgbltw/OA3QepLGa2DurUU22g9yfbrO3l2epTRAx2GVZK0qHAARHxVzX8QWD3iDihLc8kYFINvh64ezUWtQXwuzUsrpfn5Xl5Xt5gLmtNlve6iOga6MIMtqHSo5sPjG4bHlVpL4iIs4Gz12QhkqZHRPeazMPL8/K8PC9vMJc1GMtb1w2V7+huAsZK2lbShsDhwJRBLpOZmQ0BQ6JHFxFLJJ0AXAYMAyZHxOxBLpaZmQ0BQyLQAUTEVGBqhxezRpc+vTwvz8vz8taBZQ3G8tZpQ+JmFDMzs9U1VL6jMzMzWy2NC3SSnl7F/HtLurQ+H9z+eDFJR0qaJWm2pFslfVPSX0oKSTu25dta0g9Xt3wrKrOk90i6rbfyteU5ZE3K1Mv8/l+t8yxJMyXtXukh6btt+daX9JSkW/oxz6fr/xhJf9FKk9Qt6Wt9TDNc0t/WNLevzrqsCklbSvq+pHslzZB0naT3rqiMNd2/SZovab22tBf2laQrJe3fY5oTJd0n6aQVjL9Q0mdW9Mg7SeMkHdRL+irXiV727/sq7emqC7+Q9Ed91OEltb/eLGlyW/pLtl3Pskn6K0mPrm59XVN9lPHbtX9mSrpL0imrMd+rlI8sfELStZJevxrzeE2VYaakh6uetYY37Efd/PVK5j9c0t+uarmGnIho1B/w9Crm3xu4tJf0A4AZwMgaHgYcS35PeA3wmX7Me/3+lG9FZSbvMH1yJcu5YE3K1GP824DrgI1qeAtg61Y5gZnAJjV8YA2/ZPv1tY7t23tl+woYA9ze+t/heqNa779tS3sd8NGVTLce8ABwPfCu3rYx+fvOb7WPq/x/0nN82zTXA/8MfH0lyz+6PU/b/PusE72UrzVNz/17NbCMfCoRVZ6vte+32m7rte3fVa6vK9q/K6uvq7Gfe133XvJ9Gzi0Pm8M3AtsuyplAq4Cutv28ZRe8gxbhbKfCnx8ILfP2ji21oW/QS/AgK/QixvUq4AfAncB32P5d5IHVNrNdeC2Gt4XGo06EN/VY96vIn+/twP5pJZbgNuAC4HZbfOYAlwBXN3P8i2r8n2C/CnFveSPPW8GfgMsrQZoalv5/hy4AbgVeJYMUHf3VoF7lol8bujBNe7H5F2skIH8h8BPgP8mA/3sOkjvB5YAzwD3ANuTgeGB2pY/BRYAiytvq+xjar2WArPIp9osqvVZXNvh0sozH1hY2/Ye4EbgD8AdwIIq4zDgy7WdZgEf6qMeHFXjbwW+02Ob3QL8D7BlpZ8KTKty/aCGvwNcW8P7VZluq/lNrbLdAvxDDX+j1ru1jT9a6zMTeKLW9Ubgq7VNHgSOAb4OjKhlz67531DjHwSerO36AeDk2v5/qPxvbMuziDwpuBmYTtapZ4DnyMflHV3r+HSV70M136cqbUL9/2fgULKuP1Pz/X1tp+/WfllK1rlltV53AlHbY0l9Xgb8Hnistt1van9cUeOeBx6r+X689vvtwLm1DgurPMvI+vrpKvdDtb6X1ryfr7y/AOZUmR+s/fuJ2qbzgcdr2rtqHZ+q9Vha++9SYN/a/o/X+t1X2+XBWpdFVabFwM7Ar2t4aS3nmNrfD1fZFgGP1PTfrLI+XNvoqZrPO4AjaxstqX1yUW3/p8m68GzlnwX8ltz/T1WZFtS2/TgVCGk7Oaw8Y2q9b6p5LQTOI+v3U5U2E/hy2/HT53EGfIrlx8IXK20ceXI2i2xTNq/0q4AvkXX/N8Belb4x8K2azy0sP0k8mmx7ppHH0wnAxyrP9eSxsh1wc1t5xrYP9/bXuEuXPewKnEg+CPqPgT0lbUw2Sn8OvAX4oz6m3Zk84NpNAH5OVtzXAp+NiDeRlWJEW77dyLPBd/azfM/U53cAewEbkBXmRLJy/D4ixpEBteVXwB7Av5CV8VDgMUlv6WNZ7WW6ppYD+Xi11gOy9yIb+NFkI3pDleHvyLP2ZeQB/AR5gvBmsgK+Evhf8sD9AbAL8HbywN6LrIh/IA+GueRJwbgaD9lrHEvulwfJyv8x8sEADwAHkQ0GwHHAooh4K/BW4K8lbdu+opJ2JgPQPhGxCxl0XthmEbEr+bzUT7ZN9nrg3Ig4ooZ3Av60hg8Bovb19eSzV/8EeBfZmP6IPCkYDRxe23gP4MFaz0vIRu8LEfExstdzIRkQiIjHyZ7RV6q8P6vx/0Q2EBdExAVkg7hjRGxCBvLPtOV5qsq0N3AmGZQOJhvLr9c6vRGYW+V7ngyCryMbwn+tPOdX+Q6tffYH4LmqVztUnqXAhjXv3cg6QpXlyBq/d40bQe7THcn9PJ5sZI8Bhve8ZEvWg+fIBnr72kZ3kXVtFzJQ3A/sTwaw95DHwG/J+vAaMhD+BDislnlOlWF4bbf9qvybRcQwMriuR/biriPr+zxgM7L3OYo8+XyKDCbPAf+H3GffI4+nTwL/BhwP/Cf5ZKZbgdNqesj2ZFOyvfhwLXML4IPARrXdLyKPs4+Rx9VIYBMycG8K/BfLj5tX13bsj7G13V5R67I3eeL0MeC5iBgXEZ9oy9/rcSbpQLId3L3q6r9U/vOAT0XEm8njt/1S7/oRMZ6sJ63041l+TB0BnFttM2Q9fV8t9zTgmTpmrwOOiojfAoskjav8x5BBs09ND3Q3RsS8iFhGnrGMIQ+4+yLinsjTge+uaAYAkt4kaSZ5y+5DZKM4F2g97O5isgK1TKvGq1/lq8/PkcHhVmBzYBuycv53H9OOIn9XeFat185kI3VEH/nby3QNsJfyDRB3AI9I2orsFV5BngD8iqxsU8mThA3IA+znZOP1TrLxbvVW9gO6yKC8KCKeJRupvWrcJuSBvg15ALfrqjwfBrYkG9TXkhV7kx559wOOqv1xA9mwje2RZx/gooj4HbwQSF7YZvWd5ydqm7XcTjbQLUuB6yXdBLyJ5U/ieUuVaSbZw3glGeyfJevE+Mp3H/AGSaeS+/NHZMML2aD9oEeZbwS+IOmvyUa053io3pqk+cAXepS/tX83I8+gDyEb+03Jk7nNyH3aWkeRAeEqshEdSV7xmEXWpxPJ+kWt78/Ixvhq8mdJz1X6ReTJEWRd/CLZrnyPPLNfRjZoy1jeg/we2Rt6FvibHuu4NXl8bULWNZFXN95M1tVbK9+jtU6/JuvBu8iTkEeBN5AN+A5kvf1Ird96tfzhVf5/lLQXeRL1SnKfdQMnkfVvo5rfQ7UdZ5LHzvrkPt+NDDavioifkvX9DPI5vNfUup9Y67AFGTTvrvTza3knkg16V23HY8n6+7oq42NkoH6eDFTLqjybVN7+tuFP1nJuBrYlA/1Y8iRig17y93Wc/Sl5mf0ZyGNL0mbA8Ii4uqY9lzzpavlR/Z9B1i3Ik/rv1jzuIk9oWydSV0bEUxGxgGxjflLpt7VN/03gGOWbbT4AfH9FK9/0QLe47fNSVu13g7PJikxE3EZWvg3Jxngq2WgeJkm9TPv71ShfkJf/PkB2w7ePiHNWMO2Z5Bno+mRF3ZtsvFdapoiYTx7sBwC/JA/Kw8jLqk+RwWl7MsAdQfY4W/NsXYJ5BdC66eC5mmYpcKCkf6r0jWu6LwB/qN7NX/LiB3S3fIE8E/6vlay7gI/UGei4iNg2In7RR96eziQv/b6JvHS3cdu4B6n9XS4kL2X1fO6fyEt1h5G9xsXkic5XyMaxdaLxG/IAn08e1AD7StoNeEVEzOgx30PI+vVW8mTs/l7Kv5RsDM8hG9j2k6vW/v0S2agOIxtJ1d8G5H5seRtZd95S++WRtnHTyN7T3rX+QQali2q9nmV5r+KbLA9048gz+2VksDqIrBvDavx6Nb9vkvVuE5afLLYEWR9/QO6PJRHxA/JS3mY13W9r2t9XfX0zue0fIevXNcDptbwPVfptwP+NiDurTBdX2ufJXl6LyBON64DbImKbWtd7yBOW1onCDbUtngR2lHQUGURPqO06idw/HwWWRcQh5CXRJbVOS8nG/Q1kwLszIjaJiI0joisijqvljie/Thhb60mVbSl5BeFsln9PuqT+t+p1e/1eSl5RGEd+jXFCHWPB8mO73ZocZz212rn+tsHt7eKytuFlbdNfTN4j8B5gRkQ8tqIZNj3Q9eYuYIyk7Wq4rx7QF4CvSGpddjiUPMA+Tl4jbp3p7UX2fJ7pbSar4MGa19wq39slvZbcmb1Vjs3Iy2vfIc+2r4+I0eRBs1cv+Xu6njybbAW6jwPX1J1hOwIL66xtXzIoQl6CuIE8gJ9n+eWu9cnt8b/kpa7dlHdqblvzP7ZtuRvz4su8kGf6x5IN/QRJf1zl2J3ljWTLZcDfSNoAQNIOknr2EK8A3i/pNZWntbzNWN4zm9hjmjnAxpLaexitQDKL7BFAXibegTwzPwL4XESMIbffecC7Jb2CPAP+Q0R8g2wQRwFXkicHvfXWtiQDzHhyW44mG872xmpr4NcR8U9kQ7R+L3neUOsymQwovyO34Ysu75KB4g8R8bykd5E9iJaFtZytyX3zS7JebUQG7ajlrk8Gt1bPbxsyiIgMTNvVNC3DyePk9WQDtaTK2l62W2sbrEdeet2g9u8d5InXL8me0XDyZBQysD9P9ro2IC8b708GlneS+303stcOWQfeQhk957AAAAULSURBVPaqvlzbrPVd1o1kD3A74A5Ju9Y0Y8igBhnoDyR7w28i24GDyZtwrie/+5rLi09EerOYPGZ2AUZI2l7SCEk7Smr1bjaLfFjGz2v9qP/Lqh48QQaQ3ciTo31re+7cY7s+DRwr6VU1PKLal6fpPQ70dZxNI3tSr6j0ERGxCFhYvWPIS7FX9zLPdteQJyXUum7DKjyIv64Yta5orfCyJQyhJ6MMlIh4Vvmmg59Keobc4Jv2km+qpC7gZ9U9HklW4MtqHseQXfQfA5eTB9Uqk7Q+WeHnkpXuKrLiXk4G1svJSnQ7GQzvrUlPJQ/UeeTlzValvphsgL+0kkVfA+wXEXMkPUAGn2vIBmoi8CZJz9Z63UAe+JI0i2zIfhERC6vzuBHZQDxPNmLbkw3ifTXPEcBX65Lh74GQdCvLzyR/Rx5AnyaD3a1kb+Qz5CWpy1geHL9JNjo3V891AdkbekFEzJZ0GnC1pKXkZaaja5tdJGkhGQx7Nv6HkD2B/cmG/M/IL94XAgdX+ZeSB/EM8oRgBHm5DrLh/hX5/e+OwPskvZ0MUOeRjdqPyUuXPX2ZbHy3IU9ebiX395eB10u6prbN9yUtI3sjryWDZ3ueZWRv79ja1puQPZpdyV5Jy3XAPrVO08kTwG1q3IHA53qU72Lyu5M/Jhvwjcj9vWfNGzIALSb368Msv6zdMpysE1eSl1MXkEG/fXt8mOwxTwLez/JewCxg77b6Cnn5/dZaVuvy4HlVrkVkj2kDln8v9kkyUD5C9mhbN7tcUnmOIU/eRpPHwZFk724T8hLpb2u595PH12Ys7y0/Ddxax2kXua8XsnI/qWWp1pGa9mOVdml9d7UlywNBN7BhLet2cn+MII+fzch6OJE8wWo9DP9p8vLedeRJ19vItuUJ4Jma18/avqfr9TiLiJ/Xd2PTJT1HXt36dC3vPysA3svKvzv8D+Csqn9LgKMjYnHvF6P69D3gveSNSCvkJ6MMMkm7AN+oL2vXWZLuJ2+V/p3yd4enR8TlazC/l6x3fZ/1dER8ZU3La52xJvV1sPbvQNTXTpH0deCWlXxNsbrzfg35NcjrVpp5CJL0cbLH+48ry/tyvHS5zpD0YfKM9h8Guyz99GpJvyEvea1JkBtq620Mvf1WP4Ze4/raKZJmkN+7rfSGuNWY99Zk762RJ42Sfkx+t3pGv/K7R2dmZk3mHp2ZmTWaA52ZmTWaA52ZmTWaA53ZatJLn8Lf59sB1PYGBq3kifNmNrB8M4rZapJ0AfkbuSsios/XuNRvJUeRDw9/49oqn5kl9+jMVkM9YeId5MNvD6+09l7b0ZKmSLqC/GFu+7Tt70A8VdJk5bvL7pX0d235jpR0o/LdY/9VDy4ws1XkQGe2eiYAP4+I39D3WyP6+xaLHcmnsYwHTpG0gaQ3kM893bOeT7iUemSSma0aBzqz1XME+Qg26PutEf19i8VPI2JxvW3hUfJxT/uSjwS7SfkE+X3Jx2+Z2Sp62T3r0mxN1UOi9yGfBxrkcxSDfEFou9V5i0Xr2Y4i34938hoW1+xlzz06s1V3KPnW8tdFxJi2t0aMXsl0q+Jy4NB6wjz1VPtGPrPQrNMc6MxW3RHkWwjaXUy+sXlARMQd5DMlf1FvjJgGbDVQ8zd7OfHPC8zMrNHcozMzs0ZzoDMzs0ZzoDMzs0ZzoDMzs0ZzoDMzs0ZzoDMzs0ZzoDMzs0ZzoDMzs0b7//e3n7YwvtYNAAAAAElFTkSuQmCC\n",
            "text/plain": [
              "<Figure size 432x288 with 1 Axes>"
            ]
          },
          "metadata": {
            "tags": [],
            "needs_background": "light"
          }
        }
      ]
    },
    {
      "cell_type": "code",
      "metadata": {
        "colab": {
          "base_uri": "https://localhost:8080/",
          "height": 448
        },
        "id": "HAndDqUmQWT3",
        "outputId": "f44424e4-0fd6-4ed3-c30c-d85b51f5f0b0"
      },
      "source": [
        " base_color = sb.color_palette()[2]\n",
        " sb.countplot(data = flights, x = 'Airline', color = base_color)\n",
        " plt.xticks(rotation = 90);"
      ],
      "execution_count": null,
      "outputs": [
        {
          "output_type": "display_data",
          "data": {
            "image/png": "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\n",
            "text/plain": [
              "<Figure size 432x288 with 1 Axes>"
            ]
          },
          "metadata": {
            "tags": [],
            "needs_background": "light"
          }
        }
      ]
    },
    {
      "cell_type": "code",
      "metadata": {
        "colab": {
          "base_uri": "https://localhost:8080/",
          "height": 296
        },
        "id": "02gWJhwYQtm3",
        "outputId": "cf29d419-f21f-47c7-ed0f-998ea64a6c76"
      },
      "source": [
        " base_color = sb.color_palette()[2]\n",
        " sb.countplot(data = flights, y = 'Airline', color = base_color)"
      ],
      "execution_count": null,
      "outputs": [
        {
          "output_type": "execute_result",
          "data": {
            "text/plain": [
              "<matplotlib.axes._subplots.AxesSubplot at 0x7f7efc313d10>"
            ]
          },
          "metadata": {
            "tags": []
          },
          "execution_count": 11
        },
        {
          "output_type": "display_data",
          "data": {
            "image/png": "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\n",
            "text/plain": [
              "<Figure size 432x288 with 1 Axes>"
            ]
          },
          "metadata": {
            "tags": [],
            "needs_background": "light"
          }
        }
      ]
    },
    {
      "cell_type": "markdown",
      "metadata": {
        "id": "hnBQ72_MQ-En"
      },
      "source": [
        "**Count Missing Data:**"
      ]
    },
    {
      "cell_type": "code",
      "metadata": {
        "colab": {
          "base_uri": "https://localhost:8080/"
        },
        "id": "q0xYiANYRDrQ",
        "outputId": "6a379444-2c2e-4f6e-e91f-84e0b406f95a"
      },
      "source": [
        "flights.isna().sum()"
      ],
      "execution_count": null,
      "outputs": [
        {
          "output_type": "execute_result",
          "data": {
            "text/plain": [
              "Airline               0\n",
              "Date_of_Journey       0\n",
              "Source                0\n",
              "Destination           0\n",
              "Route                16\n",
              "Dep_Time              0\n",
              "Arrival_Time          0\n",
              "Duration(minutes)     0\n",
              "Total_Stops          27\n",
              "Additional_Info       0\n",
              "Price                 0\n",
              "dtype: int64"
            ]
          },
          "metadata": {
            "tags": []
          },
          "execution_count": 12
        }
      ]
    },
    {
      "cell_type": "code",
      "metadata": {
        "colab": {
          "base_uri": "https://localhost:8080/",
          "height": 418
        },
        "id": "F0gAqzUVRPOI",
        "outputId": "e9369454-e856-4ef2-d0cf-3fbe6a3b0c53"
      },
      "source": [
        "na_counts = flights.isna().sum()\n",
        "base_color = sb.color_palette()[0]\n",
        "sb.barplot(na_counts.index.values, na_counts, color = base_color)\n",
        "plt.xticks(rotation = 90)\n",
        "plt.ylabel('Number of missing values', fontsize = 12)"
      ],
      "execution_count": null,
      "outputs": [
        {
          "output_type": "stream",
          "text": [
            "/usr/local/lib/python3.7/dist-packages/seaborn/_decorators.py:43: FutureWarning: Pass the following variables as keyword args: x, y. From version 0.12, the only valid positional argument will be `data`, and passing other arguments without an explicit keyword will result in an error or misinterpretation.\n",
            "  FutureWarning\n"
          ],
          "name": "stderr"
        },
        {
          "output_type": "execute_result",
          "data": {
            "text/plain": [
              "Text(0, 0.5, 'Number of missing values')"
            ]
          },
          "metadata": {
            "tags": []
          },
          "execution_count": 13
        },
        {
          "output_type": "display_data",
          "data": {
            "image/png": "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\n",
            "text/plain": [
              "<Figure size 432x288 with 1 Axes>"
            ]
          },
          "metadata": {
            "tags": [],
            "needs_background": "light"
          }
        }
      ]
    },
    {
      "cell_type": "markdown",
      "metadata": {
        "id": "_f2uHqzgRrLy"
      },
      "source": [
        "**Pie Charts:**"
      ]
    },
    {
      "cell_type": "code",
      "metadata": {
        "id": "r6RA8iQvRtXB"
      },
      "source": [
        "#code for the pie chart seen above\n",
        "sorted_counts = df['Destination'].value_counts()\n",
        "plt.pie(sorted_counts, labels = sorted_counts.index, startangle = 90, counterclock = False)\n",
        "plt.axis('square')\n",
        "plt.title('Flight Destination\\'s')"
      ],
      "execution_count": null,
      "outputs": []
    },
    {
      "cell_type": "code",
      "metadata": {
        "id": "dCvF8duFTTG9"
      },
      "source": [
        "sorted_counts = df['Destination'].value_counts()\n",
        "plt.pie(sorted_counts, labels = sorted_counts.index, startangle = 90, counterclock = False, wedgeprops = {'width' : 0.4});\n",
        "plt.axis('square')"
      ],
      "execution_count": null,
      "outputs": []
    },
    {
      "cell_type": "markdown",
      "metadata": {
        "id": "D57dNAZZT76S"
      },
      "source": [
        "**Histogram:**"
      ]
    },
    {
      "cell_type": "code",
      "metadata": {
        "id": "llLBtJYVT9yr"
      },
      "source": [
        "plt.hist(data = df, x = 'Duration(minutes)')"
      ],
      "execution_count": null,
      "outputs": []
    },
    {
      "cell_type": "code",
      "metadata": {
        "id": "segSHZH9UG6q"
      },
      "source": [
        "plt.hist(data = df, x = 'Price', bins = 20)"
      ],
      "execution_count": null,
      "outputs": []
    },
    {
      "cell_type": "code",
      "metadata": {
        "id": "jTmuwGPpUOqN"
      },
      "source": [
        "bins = np.arange(0, df['Price'].max()+1, 1200)\n",
        "plt.hist(data = df, x = 'Price', bins = bins)\n",
        "plt.show()"
      ],
      "execution_count": null,
      "outputs": []
    },
    {
      "cell_type": "code",
      "metadata": {
        "id": "_YWPQRwRUl7_"
      },
      "source": [
        "sb.displot(df['Price']);"
      ],
      "execution_count": null,
      "outputs": []
    },
    {
      "cell_type": "code",
      "metadata": {
        "id": "llxLr1L2UsBU"
      },
      "source": [
        "sb.displot(df['Price'], kde=False);"
      ],
      "execution_count": null,
      "outputs": []
    },
    {
      "cell_type": "code",
      "metadata": {
        "id": "UCbTQNK6U04S"
      },
      "source": [
        "bin_edges = np.arange(0, df['Price'].max()+1, 1200)\n",
        "sb.distplot(df['Price'], bins = bin_edges, kde = False, hist_kws = {'alpha' : 1})"
      ],
      "execution_count": null,
      "outputs": []
    }
  ]
}
